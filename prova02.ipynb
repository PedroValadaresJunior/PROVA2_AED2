{
 "cells": [
  {
   "cell_type": "code",
   "execution_count": null,
   "id": "e6afd5d1",
   "metadata": {},
   "outputs": [
    {
     "name": "stdout",
     "output_type": "stream",
     "text": [
      "Lista original:  [29, 10, 14, 37, 13]\n",
      "Lista ordenada:  [10, 13, 14, 29, 37]\n"
     ]
    }
   ],
   "source": [
    "def selection_sort(arr):\n",
    "\n",
    "    for i in range(len(arr)):\n",
    "\n",
    "        min_idx = i\n",
    "\n",
    "        for j in range(i + 1, len(arr)):\n",
    "\n",
    "            if arr[j] < arr[min_idx]:\n",
    "\n",
    "                min_idx = j\n",
    "\n",
    "        arr[i], arr[min_idx] = arr[min_idx], arr[i]\n",
    "\n",
    "    return arr\n",
    "\n",
    "# Lista de exemplo\n",
    "lista = [29, 10, 14, 37, 13]\n",
    "print(\"Lista original: \", lista)\n",
    "print(\"Lista ordenada: \", selection_sort(lista))"
   ]
  },
  {
   "cell_type": "code",
   "execution_count": 5,
   "id": "ae8cce78",
   "metadata": {},
   "outputs": [
    {
     "name": "stdout",
     "output_type": "stream",
     "text": [
      "Maior elemento:  37\n"
     ]
    }
   ],
   "source": [
    "# Adicione abaixo o método (find_max(_lista_ordenada)) para encontrar e exibir o maior elemento da lista ordenada\n",
    "def find_max(lista_ordenada):\n",
    "    return lista_ordenada[-1]\n",
    "\n",
    "maior_elemento = find_max(lista)\n",
    "print(\"Maior elemento: \", maior_elemento)"
   ]
  }
 ],
 "metadata": {
  "kernelspec": {
   "display_name": "base",
   "language": "python",
   "name": "python3"
  },
  "language_info": {
   "codemirror_mode": {
    "name": "ipython",
    "version": 3
   },
   "file_extension": ".py",
   "mimetype": "text/x-python",
   "name": "python",
   "nbconvert_exporter": "python",
   "pygments_lexer": "ipython3",
   "version": "3.12.4"
  }
 },
 "nbformat": 4,
 "nbformat_minor": 5
}
